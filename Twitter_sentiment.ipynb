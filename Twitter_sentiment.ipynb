{
 "cells": [
  {
   "cell_type": "code",
   "execution_count": 3,
   "metadata": {
    "collapsed": false
   },
   "outputs": [],
   "source": [
    "import tweepy\n",
    "from textblob import TextBlob"
   ]
  },
  {
   "cell_type": "code",
   "execution_count": 5,
   "metadata": {
    "collapsed": false
   },
   "outputs": [],
   "source": [
    "consumer_secret = \"m2mRm7xH8ti2v5Uax81RZSKq07qFLx4X93SaHb3nNWebvMXdsz\"\n",
    "consumer_key = \"aeZnM0UCukSwaPy8RNKcsMMvh\"\n",
    "\n",
    "access_token = \"1661967871-PFSQD0Hatf3YzFes7O3dIJ8mNuXwZnIfsNNVv10\"\n",
    "access_token_secret = \"n0DKLo7N6nPr4AB00x7lHxJtVjZfBxCrZiwjBTRP9u5TF\"\n"
   ]
  },
  {
   "cell_type": "code",
   "execution_count": 7,
   "metadata": {
    "collapsed": true
   },
   "outputs": [],
   "source": [
    "auth = tweepy.OAuthHandler(consumer_key,consumer_secret)\n",
    "auth.set_access_token(access_token,access_token_secret)"
   ]
  },
  {
   "cell_type": "code",
   "execution_count": 9,
   "metadata": {
    "collapsed": false
   },
   "outputs": [],
   "source": [
    "api = tweepy.API(auth)"
   ]
  },
  {
   "cell_type": "code",
   "execution_count": 20,
   "metadata": {
    "collapsed": true
   },
   "outputs": [],
   "source": [
    "tweets = api.search(\"Trump\")"
   ]
  },
  {
   "cell_type": "code",
   "execution_count": 21,
   "metadata": {
    "collapsed": false
   },
   "outputs": [
    {
     "name": "stdout",
     "output_type": "stream",
     "text": [
      "RT @Lesmatinsfcult: #Primaires Olivier Duhamel : \"Sur le programme économique, François Fillon est à droite de Trump.\"\n",
      "Sentiment(polarity=0.0, subjectivity=0.0)\n",
      "=============\n",
      "TRUMP ,YOU ARE A MAN ON A MISION,TO BRING BACK THE GLORY OF GOD TO HIS OWN PEOPLE WHICH BIAFRANS ARE ONE OF THEM. https://t.co/0l8brcav4p\n",
      "Sentiment(polarity=0.3, subjectivity=0.5)\n",
      "=============\n",
      "@JedediahBila Yeah, it's that kind of class that costs Republicans presidential elections.  Thank God Trump has the guts to hit back.\n",
      "Sentiment(polarity=0.3, subjectivity=0.45)\n",
      "=============\n",
      "RT @jeeveswilliams: Trump’s so angry at theatre, he's gonna try to build a fourth wall.\n",
      "Sentiment(polarity=-0.25, subjectivity=0.5)\n",
      "=============\n",
      "RT @Heritage: With Trump’s election, the future of the courts looks brighter. @malcolm_john https://t.co/PMlEHB5qx5\n",
      "Sentiment(polarity=0.0, subjectivity=0.125)\n",
      "=============\n",
      "RT @phildampier: Would love to be a fly on wall when Queen meets Donald Trump - and especially Prince Philip!\n",
      "Sentiment(polarity=0.43333333333333335, subjectivity=0.8333333333333334)\n",
      "=============\n",
      "RT @japantimes: Concerns grow after Trump ally cites Japanese-American internment as precedent for Muslim registry https://t.co/a4FBtweN0y\n",
      "Sentiment(polarity=0.0, subjectivity=0.0)\n",
      "=============\n",
      "RT @lightacandleOTM: Martin Rowson on Donald Trump and Hamilton – cartoon https://t.co/JmnqLry3NO https://t.co/s7wsyme1EQ\n",
      "Sentiment(polarity=0.0, subjectivity=0.0)\n",
      "=============\n",
      "RT @thehill: Kissinger: Trump has no baggage https://t.co/2tsOZv9EW4 https://t.co/WSGzaWd469\n",
      "Sentiment(polarity=0.0, subjectivity=0.0)\n",
      "=============\n",
      "RT @ShaunKing: Yet Trump is tweeting about Saturday Night Live and Hamilton. \n",
      "\n",
      "Read this awful letter. https://t.co/efX0qhQCu1\n",
      "Sentiment(polarity=-0.4318181818181818, subjectivity=0.75)\n",
      "=============\n",
      "RT @Abdelkarter_: French People: TRUMP IS RACIST AND HOMOPHOBIC!!! SUCH A SHAME!!!\n",
      "Also French People: *vote for someone who is openly raci…\n",
      "Sentiment(polarity=0.0, subjectivity=0.25)\n",
      "=============\n",
      "https://t.co/boG4iqcdIv Fuck off!!! He won. This shit isn't news!!!\n",
      "Sentiment(polarity=-0.5859375, subjectivity=0.7)\n",
      "=============\n",
      "RT @stereologuer: 스타벅스가 트럼프를 지지하지 않은 것에 대해 보복하기 위해 트럼프 지지자들이 스타벅스에서 주문할 때 자기 이름을 트럼프라고 등록하고 직원이 거절할 경우를 대비해 영상을 촬영… 트럼프컵 인증샷 유행중 😨  https:/…\n",
      "Sentiment(polarity=0.0, subjectivity=0.0)\n",
      "=============\n",
      "#РИА_Видео Brexit y electoral retórica trump - putin en la cumbre de la apec https://t.co/FeORfluiJQ https://t.co/izNoypqb19 #Rusia\n",
      "Sentiment(polarity=0.0, subjectivity=0.0)\n",
      "=============\n",
      "RT @MozzamTweets: Perhaps, because of Trump - People might open up their eyes to the real image of Islam. Allah has His ways that we cannot…\n",
      "Sentiment(polarity=0.1, subjectivity=0.4)\n",
      "=============\n"
     ]
    }
   ],
   "source": [
    "for tweet in tweets:\n",
    "    print(tweet.text)\n",
    "    analysis = TextBlob(tweet.text)\n",
    "    print(analysis.sentiment)\n",
    "    print(\"=============\")"
   ]
  },
  {
   "cell_type": "code",
   "execution_count": null,
   "metadata": {
    "collapsed": true
   },
   "outputs": [],
   "source": []
  }
 ],
 "metadata": {
  "anaconda-cloud": {},
  "kernelspec": {
   "display_name": "Python [Root]",
   "language": "python",
   "name": "Python [Root]"
  },
  "language_info": {
   "codemirror_mode": {
    "name": "ipython",
    "version": 3
   },
   "file_extension": ".py",
   "mimetype": "text/x-python",
   "name": "python",
   "nbconvert_exporter": "python",
   "pygments_lexer": "ipython3",
   "version": "3.5.2"
  }
 },
 "nbformat": 4,
 "nbformat_minor": 0
}
